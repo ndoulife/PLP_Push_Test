{
  "nbformat": 4,
  "nbformat_minor": 0,
  "metadata": {
    "colab": {
      "provenance": [],
      "authorship_tag": "ABX9TyM7dMvfII27Wzn1GBJydDM/",
      "include_colab_link": true
    },
    "kernelspec": {
      "name": "python3",
      "display_name": "Python 3"
    },
    "language_info": {
      "name": "python"
    }
  },
  "cells": [
    {
      "cell_type": "markdown",
      "metadata": {
        "id": "view-in-github",
        "colab_type": "text"
      },
      "source": [
        "<a href=\"https://colab.research.google.com/github/ndoulife/PLP_Push_Test/blob/master/user_input.ipynb\" target=\"_parent\"><img src=\"https://colab.research.google.com/assets/colab-badge.svg\" alt=\"Open In Colab\"/></a>"
      ]
    },
    {
      "cell_type": "code",
      "execution_count": null,
      "metadata": {
        "colab": {
          "base_uri": "https://localhost:8080/"
        },
        "id": "Y-TffI4o-Hds",
        "outputId": "d2fec7f9-b275-42e0-ce1c-793cc67fefa7"
      },
      "outputs": [
        {
          "output_type": "stream",
          "name": "stdout",
          "text": [
            "What is your name? Kharavho\n",
            "How old are you? 26\n",
            "Where do you stay? Johannesburg\n",
            "Hi Kharavho , you are 26 years old and live in Johannesburg .\n"
          ]
        }
      ],
      "source": [
        "name = input(\"What is your name? \")\n",
        "age = input(\"How old are you? \")\n",
        "location = input(\"Where do you stay? \")\n",
        "print(\"Hi\", name,\", you are\", age, \"years old and live in\", location,\".\")"
      ]
    }
  ]
}